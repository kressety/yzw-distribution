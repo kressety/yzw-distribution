{
 "cells": [
  {
   "cell_type": "markdown",
   "metadata": {},
   "source": [
    "#### 🧠 理解问题  \n",
    "\n",
    "> *让客流量随机分配在一年中的12个月里，但需要保证某几个月的客流量为0，而另外的几个月里客流量要显著高于其他的月份。*  \n",
    "\n",
    "该问题实际上就是一个概率分布问题，只需要让客流量为0的月份里概率为0，而客流量较高的月份里概率更高即可。  \n",
    "当然，关于**较高**是怎么个高法，我们仍然有办法去控制。  \n",
    "以下给出上述算法实例。  \n",
    "\n",
    "#### 🔢 算法描述  \n",
    "\n",
    "\\begin{array}{ll}\n",
    "n : \\text{总体值} & P_{\\text{unit}} : \\text{基础概率单位} = \\frac{1}{W + p \\times |H|} \\\\\n",
    "Z : \\text{客流量为0的月份的集合} &  P_i : \\text{第}i\\text{个月的概率} = \\begin{cases} \n",
    "0 & \\text{if } i \\in Z \\\\\n",
    "P_{\\text{unit}} \\times p & \\text{if } i \\in H \\\\\n",
    "P_{\\text{unit}} & \\text{otherwise} \n",
    "\\end{cases} \\\\\n",
    "H : \\text{客流量较高的月份的集合} & \\Delta : \\text{随机扰动量} = \\text{Uniform}(-\\delta, \\delta) \\\\\n",
    "p : \\text{业绩参数} & P'_{i} : \\text{施加扰动后的概率} = \\begin{cases} \n",
    "P_i & \\text{if Purging and } P_i = 0 \\\\\n",
    "\\text{Clip}(P_i + \\Delta_i, 0, 1) & \\text{otherwise} \n",
    "\\end{cases} \\\\\n",
    "\\delta : \\text{扰动参数} & P''_{i} : \\text{归一化后的概率} = \\frac{P'_{i}}{\\sum P'_{i}} \\\\\n",
    "\\text{Purging} : \\text{是否保持原为0的概率}&  \\\\\n",
    "\\end{array}"
   ]
  },
  {
   "cell_type": "code",
   "execution_count": 1,
   "metadata": {},
   "outputs": [],
   "source": [
    "import numpy as np\n",
    "\n",
    "\n",
    "def yzw_distribution(\n",
    "    total: int, \n",
    "    zero_months: list[int], \n",
    "    higher_months: list[int], \n",
    "    performance: float, \n",
    "    noise: float = 0.05, \n",
    "    purging: bool = False\n",
    ") -> list[int]:\n",
    "    \"\"\"志伟分布（套皮多项分布）：研究如何将总体值按指定规则分配到12个月份中。\n",
    "\n",
    "    :param total: 总体值（总客流量）。\n",
    "    :param zero_months: 客流量为0的月份。\n",
    "    :param higher_months: 客流量较高的月份。\n",
    "    :param performance: 业绩参数，用于控制客流量较高的月份高于其他月份的程度。如果该值小于1，则会起到相反的效果。\n",
    "    :param noise: 扰动（噪声），使得数据分布显得更加不规律。当设置了较高的performance时，应将此值调低。\n",
    "    :param purging: 如果将此项置为True，则客流量为0的月份不受扰动，保持为0。\n",
    "    :return: 客流量实际分布。\n",
    "    \"\"\"\n",
    "    normal_months_number = 12 - (len(zero_months) + len(higher_months))\n",
    "    weight = normal_months_number + performance * len(higher_months)\n",
    "    probs_per_unit = 1.0 / weight\n",
    "\n",
    "    probs_list = []\n",
    "    for this_month in range(12):\n",
    "        if this_month in zero_months:\n",
    "            probs_list.append(0)\n",
    "        elif this_month in higher_months:\n",
    "            probs_list.append(probs_per_unit * performance)\n",
    "        else:\n",
    "            probs_list.append(probs_per_unit * 1.0)\n",
    "    probs_list = np.array(probs_list)\n",
    "\n",
    "    noise_list = np.random.uniform(-noise, noise, size=len(probs_list))\n",
    "    if purging:\n",
    "        noise_list[probs_list == 0] = 0\n",
    "    probs_list_with_noise = np.array(probs_list) + noise_list # 施加扰动\n",
    "    probs_list_with_noise = np.clip(probs_list_with_noise, 0, 1) # 裁剪，确保每个概率都在[0,1)区间内\n",
    "    probs_list_with_noise = probs_list_with_noise / probs_list_with_noise.sum() # 归一化\n",
    "\n",
    "    return np.random.multinomial(total, probs_list_with_noise)"
   ]
  },
  {
   "cell_type": "markdown",
   "metadata": {},
   "source": [
    "#### 😀 函数定义完成！让我们开始测试！\n",
    "\n",
    "|参数|值|描述|\n",
    "|---|---|---|\n",
    "|total|500000|假设客流量是50万人|\n",
    "|zero_months|[7, 9]|假设8月和10月客流量为0；从0开始计数|\n",
    "|higher_months|[2, 3, 4]|假设3到5月客流量较高|\n",
    "|performance|1.5|假设客流量较高的月份，概率是其他月份的1.5倍|\n",
    "|noise|0.01|扰动0.01|\n",
    "|purging|False|默认值，使得客流量为0的月份同样收到扰动|\n",
    "\n",
    "⚠ **注意：由于概率分布的固有性质，即使所有参数相同，每次运行都会得到不一样的结果**"
   ]
  },
  {
   "cell_type": "code",
   "execution_count": 2,
   "metadata": {},
   "outputs": [
    {
     "data": {
      "application/vnd.jupyter.widget-view+json": {
       "model_id": "62bcec31f7e34eeba5e7b56f6ef20b50",
       "version_major": 2,
       "version_minor": 0
      },
      "text/plain": [
       "HBox(children=(interactive(children=(IntSlider(value=500000, description='Total:', max=1000000, min=1000, step…"
      ]
     },
     "metadata": {},
     "output_type": "display_data"
    }
   ],
   "source": [
    "from plotting_tool import plot\n",
    "\n",
    "\n",
    "test_total = 500000\n",
    "test_zero_months = [7, 9]\n",
    "test_higher_months = [2, 3, 4]\n",
    "test_performance = 1.5\n",
    "test_noise = 0.01\n",
    "test_purging = False\n",
    "\n",
    "plot(yzw_distribution, test_total, test_zero_months, test_higher_months, test_performance, test_noise, test_purging)"
   ]
  },
  {
   "cell_type": "markdown",
   "metadata": {},
   "source": [
    "#### 👣 行百里者半九十  \n",
    "\n",
    "到这里我们绝大多数工作都已经完成，然而还有一件最重要的事情没有做——`将数据自动写入Excel`。  \n",
    "我们当然可以通过算法计算出数据，然后手动填进去，但那样做和纯手动又有多大区别的？  \n",
    "\n",
    "#### ✍ 自动写入Excel\n",
    "\n",
    "因此，最后一部分便是：\n",
    "\n",
    "> 如何在**不改变原Excel格式和其他数据**的情况下，将我们需要的数据写入进去。\n",
    "\n",
    "ℹ *注意：由于这一部分多是无意义的调库，因此不会对代码作过多解释，建议开箱即用。*"
   ]
  },
  {
   "cell_type": "code",
   "execution_count": 3,
   "metadata": {},
   "outputs": [],
   "source": [
    "from openpyxl.reader.excel import load_workbook\n",
    "from collections.abc import Iterable\n",
    "\n",
    "\n",
    "def write_excel(\n",
    "    obj: list, \n",
    "    file_path: str, \n",
    "    sheet_name: str, \n",
    "    cells: list\n",
    "):\n",
    "    assert isinstance(obj, Iterable), 'Data should be iterable, such as list[] or tuple(). '\n",
    "    assert isinstance(cells, Iterable), 'Cells should be iterable, such as list[] or tuple(). '\n",
    "    assert len(obj) == len(cells), 'Number of data should equal to number of cells. '\n",
    "\n",
    "    workbook = load_workbook(file_path)\n",
    "    worksheet = workbook[sheet_name]\n",
    "    for i, cell in enumerate(cells):\n",
    "        col = ord(cell[0].upper()) - 64\n",
    "        row = int(cell[1:])\n",
    "        worksheet.cell(row, col).value = obj[i]\n",
    "    workbook.save(file_path)"
   ]
  },
  {
   "cell_type": "markdown",
   "metadata": {},
   "source": [
    "#### 🤫 不废话，直接看实例"
   ]
  },
  {
   "cell_type": "code",
   "execution_count": 4,
   "metadata": {},
   "outputs": [
    {
     "name": "stderr",
     "output_type": "stream",
     "text": [
      "--2023-11-02 09:43:54--  https://src.mealuet.com/example.xlsx\n",
      "Resolving src.mealuet.com (src.mealuet.com)... 104.21.94.150, 172.67.137.58, 2606:4700:3031::ac43:893a, ...\n",
      "Connecting to src.mealuet.com (src.mealuet.com)|104.21.94.150|:443... connected.\n",
      "HTTP request sent, awaiting response... 200 OK\n",
      "Length: 17396 (17K) [application/vnd.openxmlformats-officedocument.spreadsheetml.sheet]\n",
      "Saving to: ‘example.xlsx’\n",
      "\n",
      "     0K .......... ......                                     100% 74.9M=0s\n",
      "\n",
      "2023-11-02 09:43:54 (74.9 MB/s) - ‘example.xlsx’ saved [17396/17396]\n",
      "\n"
     ]
    }
   ],
   "source": [
    "from example_recovery import example_recover\n",
    "\n",
    "\n",
    "example_recover() # 还原示例表，以防被之前的操作影响\n",
    "\n",
    "data_to_write = yzw_distribution(test_total, test_zero_months, test_higher_months, test_performance, test_noise, test_purging)\n",
    "# 将所有12个月数据写在一张Sheet上\n",
    "cells = [f'B{row}' for row in range(3, 15)]\n",
    "# 也就是 cells = ['B3', 'B4', ... , 'B14']\n",
    "write_excel(data_to_write, 'example.xlsx', 'Sheet1', cells)"
   ]
  },
  {
   "cell_type": "code",
   "execution_count": 5,
   "metadata": {},
   "outputs": [
    {
     "name": "stderr",
     "output_type": "stream",
     "text": [
      "--2023-11-02 09:43:57--  https://src.mealuet.com/example.xlsx\n",
      "Resolving src.mealuet.com (src.mealuet.com)... 172.67.137.58, 104.21.94.150, 2606:4700:3031::6815:5e96, ...\n",
      "Connecting to src.mealuet.com (src.mealuet.com)|172.67.137.58|:443... connected.\n",
      "HTTP request sent, awaiting response... 200 OK\n",
      "Length: 17396 (17K) [application/vnd.openxmlformats-officedocument.spreadsheetml.sheet]\n",
      "Saving to: ‘example.xlsx’\n",
      "\n",
      "     0K .......... ......                                     100% 45.8M=0s\n",
      "\n",
      "2023-11-02 09:43:57 (45.8 MB/s) - ‘example.xlsx’ saved [17396/17396]\n",
      "\n"
     ]
    }
   ],
   "source": [
    "example_recover()\n",
    "\n",
    "data_to_write = yzw_distribution(test_total, test_zero_months, test_higher_months, test_performance, test_noise, test_purging)\n",
    "# 将所有12个月的数据写在一张Sheet上，但是单元格不连续\n",
    "cells = [f'B{row}' for row in range(4, 15)]\n",
    "cells.append('C39')\n",
    "# 也就是 cells = ['B4', 'B5', ... , 'B14', 'C39']\n",
    "write_excel(data_to_write, 'example.xlsx', 'Sheet1', cells)"
   ]
  },
  {
   "cell_type": "code",
   "execution_count": 6,
   "metadata": {},
   "outputs": [
    {
     "name": "stderr",
     "output_type": "stream",
     "text": [
      "--2023-11-02 09:43:59--  https://src.mealuet.com/example.xlsx\n",
      "Resolving src.mealuet.com (src.mealuet.com)... 172.67.137.58, 104.21.94.150, 2606:4700:3031::ac43:893a, ...\n",
      "Connecting to src.mealuet.com (src.mealuet.com)|172.67.137.58|:443... connected.\n",
      "HTTP request sent, awaiting response... 200 OK\n",
      "Length: 17396 (17K) [application/vnd.openxmlformats-officedocument.spreadsheetml.sheet]\n",
      "Saving to: ‘example.xlsx’\n",
      "\n",
      "     0K .......... ......                                     100% 81.5M=0s\n",
      "\n",
      "2023-11-02 09:44:00 (81.5 MB/s) - ‘example.xlsx’ saved [17396/17396]\n",
      "\n"
     ]
    }
   ],
   "source": [
    "example_recover()\n",
    "\n",
    "\n",
    "data_to_write = yzw_distribution(test_total, test_zero_months, test_higher_months, test_performance, test_noise, test_purging)\n",
    "# 将一部分数据写在Sheet1上，另一部分写在Sheet2上\n",
    "cells_1 = [f'B{row}' for row in range(3, 12)]\n",
    "data_1 = data_to_write[:9]\n",
    "# data和cell的数量必须相等——这很好理解\n",
    "cells_2 = [f'C{row}' for row in range(16, 19)]\n",
    "data_2 = data_to_write[9:]\n",
    "# 调用两次write_excel，写两次即可\n",
    "write_excel(data_1, 'example.xlsx', 'Sheet1', cells_1)\n",
    "write_excel(data_2, 'example.xlsx', 'Shit2', cells_2)\n",
    "# 以此类推，如果写在多张表上就像这样切分一下，然后运行若干次write_excel即可\n",
    "# 写在不同的Excel文件里，则修改参数example.xlsx即可"
   ]
  },
  {
   "cell_type": "markdown",
   "metadata": {},
   "source": [
    "---\n",
    "\n",
    "#### 本课题到此就算结束啦，辛苦！\n",
    "#### 开箱即用的代码保存在`main.py`里，下载下来直接使用即可\n",
    "#### 使用前记得先安装必要的软件包\n",
    "\n",
    "```bash\n",
    "pip3 install -r requirements.txt\n",
    "```"
   ]
  }
 ],
 "metadata": {
  "kernelspec": {
   "display_name": "Python 3",
   "language": "python",
   "name": "python3"
  },
  "language_info": {
   "codemirror_mode": {
    "name": "ipython",
    "version": 3
   },
   "file_extension": ".py",
   "mimetype": "text/x-python",
   "name": "python",
   "nbconvert_exporter": "python",
   "pygments_lexer": "ipython3",
   "version": "3.10.12"
  }
 },
 "nbformat": 4,
 "nbformat_minor": 2
}
